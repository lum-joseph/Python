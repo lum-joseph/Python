{
 "cells": [
  {
   "cell_type": "markdown",
   "id": "c5cdc3ed",
   "metadata": {},
   "source": [
    "# Calculator with Python"
   ]
  },
  {
   "cell_type": "markdown",
   "id": "f33f8729",
   "metadata": {},
   "source": [
    "Get input numbers from user"
   ]
  },
  {
   "cell_type": "code",
   "execution_count": 1,
   "id": "2ee7b4ad",
   "metadata": {},
   "outputs": [
    {
     "name": "stdout",
     "output_type": "stream",
     "text": [
      "Enter your first number: 64\n",
      "Enter your second number: 4\n",
      "Given the following options: add (+), subtract (-), multiply (*), divide (/), power (^), square root (sqrt)\n",
      "Enter your operator: /\n",
      "64.0 / 4.0 = 16.0\n"
     ]
    }
   ],
   "source": [
    "num1 = float(input('Enter your first number: '))\n",
    "num2 = float(input('Enter your second number: '))\n",
    "print(\"Given the following options: add (+), subtract (-), multiply (*), divide (/), power (^), square root (sqrt)\")\n",
    "operation = str(input('Enter your operator: '))\n",
    "\n",
    "if operation == '+':\n",
    "    ans = num1 + num2\n",
    "    print('{0} + {1} = {2}'.format(num1, num2, ans))\n",
    "\n",
    "elif operation == '-':\n",
    "    ans = num1 - num2\n",
    "    print('{0} - {1} = {2}'.format(num1, num2, ans))\n",
    "\n",
    "elif operation == '*':\n",
    "    ans = num1 * num2\n",
    "    print('{0} * {1} = {2}'.format(num1, num2, ans))\n",
    "\n",
    "elif operation == '/':\n",
    "    ans = num1 / num2\n",
    "    print('{0} / {1} = {2}'.format(num1, num2, ans))\n",
    "\n",
    "elif operation == '^':\n",
    "    ans = num1 ** num2\n",
    "    print('{0} ^ {1} = {2}'.format(num1, num2, ans))\n",
    "\n",
    "elif operation == 'sqrt':\n",
    "    ans = num1 ** (1/num2)\n",
    "    print('{0} sqrt {1} = {2}'.format(num1, num2, ans))\n",
    "    \n",
    "else:\n",
    "    print('Invalid operator, please try again.')"
   ]
  },
  {
   "cell_type": "markdown",
   "id": "361e3b71",
   "metadata": {},
   "source": [
    "### Alternative method of calculator with python"
   ]
  },
  {
   "cell_type": "markdown",
   "id": "4a4d4c61",
   "metadata": {},
   "source": [
    "Functions to be used by calculator"
   ]
  },
  {
   "cell_type": "code",
   "execution_count": 2,
   "id": "0d7813b5",
   "metadata": {},
   "outputs": [],
   "source": [
    "def add(a,b):\n",
    "    return a+b\n",
    "def substract(a,b):\n",
    "    return a-b\n",
    "def multiply(a,b):\n",
    "    return a*b\n",
    "def divide(a,b):\n",
    "    return a/b\n",
    "def power(a,b):\n",
    "    return a**b\n",
    "def rt(a,b):\n",
    "    return a**(1/b)"
   ]
  },
  {
   "cell_type": "code",
   "execution_count": 3,
   "id": "2da396e9",
   "metadata": {},
   "outputs": [
    {
     "name": "stdout",
     "output_type": "stream",
     "text": [
      "Given the following options: add (+), subtract (-), multiply (*), divide (/), power (^), root (rt)\n",
      "Enter your operator: ^\n",
      "Enter first number: 2\n",
      "Enter second number: 3\n",
      "\n",
      "\n",
      "2.0 ^ 3.0 = 8.0\n",
      "Let's do another calculation? (yes/no): yes\n",
      "Given the following options: add (+), subtract (-), multiply (*), divide (/), power (^), root (rt)\n",
      "Enter your operator: rt\n",
      "Enter first number: 9\n",
      "Enter second number: 2\n",
      "\n",
      "\n",
      "9.0 root 2.0 = 3.0\n",
      "Let's do another calculation? (yes/no): no\n"
     ]
    }
   ],
   "source": [
    "while True:\n",
    "    # take input from the user\n",
    "    print(\"Given the following options: add (+), subtract (-), multiply (*), divide (/), power (^), root (rt)\")\n",
    "    choice = input(\"Enter your operator: \")\n",
    "\n",
    "    # check if choice is one of the four options\n",
    "    if choice in ('+', '-', '*', '/', '^', 'rt'):\n",
    "        num_1 = float(input(\"Enter first number: \"))\n",
    "        num_2 = float(input(\"Enter second number: \"))\n",
    "        print(\"\\n\")\n",
    "\n",
    "        if choice == '+':\n",
    "            print(num_1, \"+\", num_2, \"=\", add(num_1, num_2))\n",
    "\n",
    "        elif choice == '-':\n",
    "            print(num_1, \"-\", num_2, \"=\", subtract(num_1, num_2))\n",
    "\n",
    "        elif choice == '*':\n",
    "            print(num_1, \"*\", num_2, \"=\", multiply(num_1, num_2))\n",
    "\n",
    "        elif choice == '/':\n",
    "            print(num_1, \"/\", num_2, \"=\", divide(num_1, num_2))\n",
    "            \n",
    "        elif choice == '^':\n",
    "            print(num_1, \"^\", num_2, \"=\", power(num_1, num_2))\n",
    "            \n",
    "        elif choice == 'rt':\n",
    "            print(num_1, \"root\", num_2, \"=\", rt(num_1, num_2))\n",
    "        \n",
    "        # check if user wants another calculation\n",
    "        next_calculation = input(\"Let's do another calculation? (yes/no): \").lower()\n",
    "        \n",
    "        # break out of while loop if ans is no\n",
    "        if next_calculation == \"no\":\n",
    "          break\n",
    "    \n",
    "    else:\n",
    "        print(\"Invalid Input\")"
   ]
  },
  {
   "cell_type": "code",
   "execution_count": null,
   "id": "55ded325",
   "metadata": {},
   "outputs": [],
   "source": []
  }
 ],
 "metadata": {
  "kernelspec": {
   "display_name": "Python 3",
   "language": "python",
   "name": "python3"
  },
  "language_info": {
   "codemirror_mode": {
    "name": "ipython",
    "version": 3
   },
   "file_extension": ".py",
   "mimetype": "text/x-python",
   "name": "python",
   "nbconvert_exporter": "python",
   "pygments_lexer": "ipython3",
   "version": "3.7.10"
  }
 },
 "nbformat": 4,
 "nbformat_minor": 5
}
