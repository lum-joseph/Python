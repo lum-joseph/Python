{
 "cells": [
  {
   "cell_type": "markdown",
   "id": "b95865a2",
   "metadata": {},
   "source": [
    "# Generate a resume using Python\n",
    "\n",
    "* Done by: Joseph Lum\n",
    "* Python-docx documentation: https://python-docx.readthedocs.io/en/latest/user/quickstart.html#image-size"
   ]
  },
  {
   "cell_type": "code",
   "execution_count": 1,
   "id": "621bca9f",
   "metadata": {},
   "outputs": [],
   "source": [
    "from docx import Document\n",
    "from docx.shared import Inches\n",
    "from docx.enum.text import WD_ALIGN_PARAGRAPH"
   ]
  },
  {
   "cell_type": "code",
   "execution_count": 2,
   "id": "8e6085fa",
   "metadata": {},
   "outputs": [],
   "source": [
    "document = Document()"
   ]
  },
  {
   "cell_type": "markdown",
   "id": "066a5fc8",
   "metadata": {},
   "source": [
    "#### Add Images to Word Document\n",
    "\n",
    "Ensure your photo **file name** and **file extension** (*.png .jpg*) are correct"
   ]
  },
  {
   "cell_type": "code",
   "execution_count": 3,
   "id": "2efe8eef",
   "metadata": {},
   "outputs": [],
   "source": [
    "document.add_picture('Joseph Photo.jpg', width=Inches(1.25))\n",
    "# to centralise the paragraph added\n",
    "last_paragraph = document.paragraphs[-1] \n",
    "last_paragraph.alignment = WD_ALIGN_PARAGRAPH.CENTER"
   ]
  },
  {
   "cell_type": "markdown",
   "id": "13eac855",
   "metadata": {},
   "source": [
    "#### Add personal particulars to Word Document"
   ]
  },
  {
   "cell_type": "code",
   "execution_count": 4,
   "id": "45e77bbf",
   "metadata": {},
   "outputs": [],
   "source": [
    "name = \"Joseph Lum\"\n",
    "phone_number = \" < Contact Number > \"\n",
    "email = \"my_email_name@gmail.com\""
   ]
  },
  {
   "cell_type": "markdown",
   "id": "fcf9e9ab",
   "metadata": {},
   "source": [
    "*Alternatively, you can get user to input their details*\n",
    "\n",
    "``` \n",
    "name = input('Key in your full name: ')\n",
    "phone_number = input('Key in your phone number: ')\n",
    "email = input('Key in your email: ')\n",
    "```"
   ]
  },
  {
   "cell_type": "code",
   "execution_count": 5,
   "id": "f9ac683f",
   "metadata": {},
   "outputs": [],
   "source": [
    "document.add_paragraph(name + \"  |  \" + phone_number + \"  |  \" + email)\n",
    "# to centralise the paragraph added\n",
    "last_paragraph = document.paragraphs[-1] \n",
    "last_paragraph.alignment = WD_ALIGN_PARAGRAPH.CENTER"
   ]
  },
  {
   "cell_type": "markdown",
   "id": "3c0af6e3",
   "metadata": {},
   "source": [
    "#### Information about me"
   ]
  },
  {
   "cell_type": "code",
   "execution_count": 6,
   "id": "f3e1cc1f",
   "metadata": {},
   "outputs": [
    {
     "data": {
      "text/plain": [
       "<docx.text.paragraph.Paragraph at 0x217ea128ac8>"
      ]
     },
     "execution_count": 6,
     "metadata": {},
     "output_type": "execute_result"
    }
   ],
   "source": [
    "document.add_heading(\"About me\")\n",
    "# Edit the description accordingly\n",
    "about_me = \"I am Joseph. I enjoy analysing data and problem solving. My interests are in Information and Communication Technology (ICT), to capitalise on using technology for automation and sensemaking. I look forward to learning new skills and value adding to any team I am placed in.\"\n",
    "document.add_paragraph(about_me)"
   ]
  },
  {
   "cell_type": "markdown",
   "id": "b132fcc9",
   "metadata": {},
   "source": [
    "#### Work Experience"
   ]
  },
  {
   "cell_type": "code",
   "execution_count": 7,
   "id": "5e402a51",
   "metadata": {},
   "outputs": [
    {
     "data": {
      "text/plain": [
       "<docx.text.run.Run at 0x217eb132d08>"
      ]
     },
     "execution_count": 7,
     "metadata": {},
     "output_type": "execute_result"
    }
   ],
   "source": [
    "document.add_heading(\"Work Experience\")\n",
    "\n",
    "# Edit company details accordingly\n",
    "p = document.add_paragraph()\n",
    "company = \"Company Name 1\"\n",
    "start_date = \"Aug 2020\"\n",
    "end_date = \"Aug 2021\"\n",
    "experience_details = \"• Lead data team in operations support for current analysis and research\\n• Business analytics using Python, PowerBI and basic SQL to provide insights for policy decisions\\n\"\n",
    "\n",
    "p.add_run(company + '    ').bold = True\n",
    "p.add_run(start_date + \"-\" + end_date + \"\\n\").italic = True\n",
    "p.add_run(experience_details)"
   ]
  },
  {
   "cell_type": "markdown",
   "id": "0140822f",
   "metadata": {},
   "source": [
    "##### to add more work experiences"
   ]
  },
  {
   "cell_type": "code",
   "execution_count": 8,
   "id": "dbf31d4d",
   "metadata": {},
   "outputs": [
    {
     "data": {
      "text/plain": [
       "<docx.text.run.Run at 0x217ea130088>"
      ]
     },
     "execution_count": 8,
     "metadata": {},
     "output_type": "execute_result"
    }
   ],
   "source": [
    "# Edit company details accordingly\n",
    "# p = document.add_paragraph() # comment out this line if you want everything to be in same parapgraph\n",
    "company = \"Company Name 2\"\n",
    "start_date = \"Aug 2018\"\n",
    "end_date = \"Feb 2019\"\n",
    "experience_details = \"• Designed 3 hydraulic systems for offshore ships and oil rigs with 12,000 MT capacity\\n• Established and integrated guidelines of Quality Assurance for 2 products – Hydraulic Power Units and Winches\\n\"\n",
    "\n",
    "p.add_run(company + '    ').bold = True\n",
    "p.add_run(start_date + \"-\" + end_date + \"\\n\").italic = True\n",
    "p.add_run(experience_details)"
   ]
  },
  {
   "cell_type": "markdown",
   "id": "cf9330c2",
   "metadata": {},
   "source": [
    "#### Skills"
   ]
  },
  {
   "cell_type": "code",
   "execution_count": 9,
   "id": "0928f6ff",
   "metadata": {},
   "outputs": [],
   "source": [
    "document.add_heading('Skills')\n",
    "skill = [\"Python\", \"Excel\", \"PowerBi\", \"Tableau\", \"QlikSense\"]\n",
    "\n",
    "# for loop to add every skill as a new bullet point\n",
    "for i in skill:\n",
    "    document.add_paragraph(i, style='List Bullet')"
   ]
  },
  {
   "cell_type": "markdown",
   "id": "64ebcd90",
   "metadata": {},
   "source": [
    "#### Footer"
   ]
  },
  {
   "cell_type": "code",
   "execution_count": 10,
   "id": "fe7e2253",
   "metadata": {},
   "outputs": [],
   "source": [
    "section = document.sections[0]\n",
    "footer = section.footer\n",
    "p = footer.paragraphs[0]\n",
    "p.text = \"Python script by Joseph Lum. CV generated using python-docx package.\""
   ]
  },
  {
   "cell_type": "markdown",
   "id": "2cbd14e9",
   "metadata": {},
   "source": [
    "#### Save your file to a Word Document format ('.docx')\n"
   ]
  },
  {
   "cell_type": "code",
   "execution_count": 11,
   "id": "e569617e",
   "metadata": {},
   "outputs": [],
   "source": [
    "document.save('Output CV.docx')"
   ]
  },
  {
   "cell_type": "code",
   "execution_count": null,
   "id": "205a0912",
   "metadata": {},
   "outputs": [],
   "source": []
  }
 ],
 "metadata": {
  "kernelspec": {
   "display_name": "Python 3",
   "language": "python",
   "name": "python3"
  },
  "language_info": {
   "codemirror_mode": {
    "name": "ipython",
    "version": 3
   },
   "file_extension": ".py",
   "mimetype": "text/x-python",
   "name": "python",
   "nbconvert_exporter": "python",
   "pygments_lexer": "ipython3",
   "version": "3.7.10"
  }
 },
 "nbformat": 4,
 "nbformat_minor": 5
}
