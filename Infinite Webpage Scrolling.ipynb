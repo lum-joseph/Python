{
 "cells": [
  {
   "cell_type": "markdown",
   "id": "caabf8a7",
   "metadata": {},
   "source": [
    "# Web Scrape infinite scroll\n",
    "\n",
    "Done by Joseph Lum <br>\n",
    "Webscrape from website with infinite scrolling. Using selenium instead of beautifulsoup <br>\n",
    "\n",
    "## Things I have learnt\n",
    "1. Opening Webpage using python\n",
    "2. Scrolling through webpage using python\n",
    "3. While loop and If Statements\n"
   ]
  },
  {
   "cell_type": "markdown",
   "id": "bb5510e8",
   "metadata": {},
   "source": [
    "---\n",
    "**Set-up**: Install following\n",
    "- [Selenium](https://www.selenium.dev/downloads/)<br>\n",
    "- Time<br>\n",
    "- [Chromedriver](https://sites.google.com/chromium.org/driver/downloads?authuser=0)"
   ]
  },
  {
   "cell_type": "code",
   "execution_count": 1,
   "id": "1d8b34f1",
   "metadata": {},
   "outputs": [],
   "source": [
    "from selenium import webdriver\n",
    "from selenium.webdriver.common.keys import Keys\n",
    "import time\n",
    "\n",
    "# Optional argument, if not specified will search path.\n",
    "driver = webdriver.Chrome('D:/Downloads/chromedriver')\n",
    "# driver.get(\"https://twitter.com/elonmusk\")\n",
    "driver.get(\"https://www.bbc.com/news\")\n",
    "\n",
    "\n",
    "#let the page load first\n",
    "time.sleep(3)"
   ]
  },
  {
   "cell_type": "markdown",
   "id": "a47e5f45",
   "metadata": {},
   "source": [
    "### Open webpage and scroll to bottom\n",
    "\n",
    "Following section of code is to scroll on the webapge and stop once it reaches the bottom of page"
   ]
  },
  {
   "cell_type": "code",
   "execution_count": 2,
   "id": "e92c13f3",
   "metadata": {},
   "outputs": [],
   "source": [
    "# run this to test if your webpage opens up and yoru chromedriver works\n",
    "        # scroll from beginning of page to bottom of page\n",
    "#driver.execute_script('window.scrollTo(0, document.body.scrollHeight);')\n",
    "\n",
    "previous_height = driver.execute_script('return document.body.scrollHeight')\n",
    "\n",
    "while True:\n",
    "    driver.execute_script('window.scrollTo(0, document.body.scrollHeight);')\n",
    "    time.sleep(2)\n",
    "    new_height = driver.execute_script('return document.body.scrollHeight')\n",
    "    \n",
    "    # check if it has reached bottom of the page\n",
    "    if new_height == previous_height:\n",
    "        break\n",
    "    previous_height = new_height"
   ]
  },
  {
   "cell_type": "markdown",
   "id": "89c1265d",
   "metadata": {},
   "source": [
    "### Alternative method for scrolling to the bottom\n",
    "Scroll infitnitely to the bottom"
   ]
  },
  {
   "cell_type": "code",
   "execution_count": null,
   "id": "0a0e3c0b",
   "metadata": {},
   "outputs": [],
   "source": [
    "element = driver.find_element_by_tag_name('body')\n",
    "\n",
    "while True:\n",
    "    element.send_keys(Keys.PAGE_DOWN)\n",
    "    time.sleep(2)"
   ]
  },
  {
   "cell_type": "code",
   "execution_count": null,
   "id": "9f1bc3ab",
   "metadata": {},
   "outputs": [],
   "source": []
  }
 ],
 "metadata": {
  "kernelspec": {
   "display_name": "Python 3",
   "language": "python",
   "name": "python3"
  },
  "language_info": {
   "codemirror_mode": {
    "name": "ipython",
    "version": 3
   },
   "file_extension": ".py",
   "mimetype": "text/x-python",
   "name": "python",
   "nbconvert_exporter": "python",
   "pygments_lexer": "ipython3",
   "version": "3.7.10"
  }
 },
 "nbformat": 4,
 "nbformat_minor": 5
}
