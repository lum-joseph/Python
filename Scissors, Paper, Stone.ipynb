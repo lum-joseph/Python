{
 "cells": [
  {
   "cell_type": "markdown",
   "id": "ea478c17",
   "metadata": {},
   "source": [
    "# Scissors, Paper, Stone with Python\n",
    "\n",
    "Simple game against random generator. Try your luck to beat the computer.\n",
    "\n",
    "### Things I have learnt\n",
    "* Using dynamic variables\n",
    "* Error handling using try and except \n",
    "* Elif to account for multiple conditions \n",
    "* Printing to give end-user a better user experience"
   ]
  },
  {
   "cell_type": "code",
   "execution_count": 1,
   "id": "9de533f4",
   "metadata": {},
   "outputs": [
    {
     "name": "stdout",
     "output_type": "stream",
     "text": [
      "(1) Scissors \t (2) Paper \t (3) Stone\n",
      "Key in your option (an integer): 3\n",
      "\n",
      "You chose: Stone\n",
      "\n"
     ]
    }
   ],
   "source": [
    "import random\n",
    "print(\"(1) Scissors \\t (2) Paper \\t (3) Stone\")\n",
    "\n",
    "try: \n",
    "    human = int(input(\"Key in your option (an integer): \"))\n",
    "    if human == 1:\n",
    "        human_input = \"Scissors\"\n",
    "    elif human == 2: \n",
    "        human_input = \"Paper\"\n",
    "    else:\n",
    "        human_input = \"Stone\"\n",
    "    print(f\"\\nYou chose: {human_input}\\n\")\n",
    "except: \n",
    "    print(\"\\nOnly key in integers - 1 / 2 / 3. Please try again.\\n\")\n",
    "else:\n",
    "    None"
   ]
  },
  {
   "cell_type": "code",
   "execution_count": 7,
   "id": "2517a0d9",
   "metadata": {},
   "outputs": [
    {
     "name": "stdout",
     "output_type": "stream",
     "text": [
      "\n",
      "Computer chose: Paper\n",
      "\n",
      "Computer Wins! Paper beats Stone!\n"
     ]
    }
   ],
   "source": [
    "rand = random.randint(1, 3)\n",
    "\n",
    "if rand == 1:\n",
    "    computer = \"Scissors\"\n",
    "elif rand == 2: \n",
    "    computer = \"Paper\"\n",
    "else:\n",
    "    computer = \"Stone\"\n",
    "    \n",
    "print(f\"\\nComputer chose: {computer}\\n\")\n",
    "\n",
    "if rand == human:\n",
    "    print(\"Draw! Try again!\")\n",
    "elif rand == 3 and human == 1:\n",
    "    print(f\"Computer Wins! {computer} beats {human_input}!\")\n",
    "elif rand == 1 and human == 3:\n",
    "    print(f\"You win! {human_input} beats {computer}!\")\n",
    "elif rand < human :\n",
    "    print(f\"Computer Wins! {computer} beats {human_input}!\")\n",
    "elif rand > human:\n",
    "    print(f\"You Win! {human_input} beats {computer}!\")"
   ]
  }
 ],
 "metadata": {
  "kernelspec": {
   "display_name": "Python 3",
   "language": "python",
   "name": "python3"
  },
  "language_info": {
   "codemirror_mode": {
    "name": "ipython",
    "version": 3
   },
   "file_extension": ".py",
   "mimetype": "text/x-python",
   "name": "python",
   "nbconvert_exporter": "python",
   "pygments_lexer": "ipython3",
   "version": "3.7.10"
  }
 },
 "nbformat": 4,
 "nbformat_minor": 5
}
